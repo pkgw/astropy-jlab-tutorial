{
 "cells": [
  {
   "cell_type": "markdown",
   "id": "0443830d-eb4d-4c18-98f0-60b6f2131a6f",
   "metadata": {
    "tags": []
   },
   "source": [
    "# Foundations of Astronomy in Python: Astropy in JupyterLab\n",
    "\n",
    "This notebook is a sandbox — feel free to play around! The worst that can happen is that your code won't do what you hoped.\n",
    "\n",
    "In the spirit of \"learn by doing\", only a few commands will come pre-typed in this notebook. But the commands that you type will be saved and you can look over them later if (when) you need a refresher.\n",
    "\n",
    "You can keep non-code notes in this notebook by creating more [\"Markdown\"][md] cells like this one, but it can be a bit taxing to try to interleave code and text as you're getting started. It might be easier to type notes in a separate text file (see `Notes.md`), or on paper.\n",
    "\n",
    "[md]: https://www.markdownguide.org/getting-started/"
   ]
  },
  {
   "cell_type": "markdown",
   "id": "1f34725c-dde9-43ab-9e83-50aad29b0c9d",
   "metadata": {
    "tags": []
   },
   "source": [
    "## Running Cells\n",
    "\n",
    "If you're not used to the Jupyter interface, the first thing to get used to is how to actually execute the code in cells. The notes in the “Run” menu can remind you of the different keystrokes that are available. Here are some sample cells for you to play around with."
   ]
  },
  {
   "cell_type": "code",
   "execution_count": null,
   "id": "1ab684e0-aaef-4fed-9999-950915a84129",
   "metadata": {},
   "outputs": [],
   "source": [
    "2 + 2"
   ]
  },
  {
   "cell_type": "code",
   "execution_count": null,
   "id": "f294f6f8-9782-45b1-9ac7-d5851e41d9cf",
   "metadata": {},
   "outputs": [],
   "source": [
    "x = 1 + 2 + 3 + 4 + 5\n",
    "x"
   ]
  },
  {
   "cell_type": "code",
   "execution_count": null,
   "id": "5f417859-8cf5-41bc-a4f0-5564808b784d",
   "metadata": {},
   "outputs": [],
   "source": [
    "print(\"the square of x is\", x**2)"
   ]
  },
  {
   "cell_type": "code",
   "execution_count": null,
   "id": "b0c96b5e-ca95-4c25-8800-6430f2570832",
   "metadata": {},
   "outputs": [],
   "source": [
    "import numpy as np\n",
    "\n",
    "np.cos(\n",
    "    np.linspace(0, 2 * np.pi, 9)\n",
    ")"
   ]
  },
  {
   "cell_type": "markdown",
   "id": "6db53abd-ccb2-455f-a2f6-d1fe2d747b5e",
   "metadata": {},
   "source": [
    "## Opening FITS Files"
   ]
  },
  {
   "cell_type": "code",
   "execution_count": null,
   "id": "81e660af-6de5-4934-abdf-a5444674df1f",
   "metadata": {},
   "outputs": [],
   "source": [
    "import astropy.io.fits"
   ]
  },
  {
   "cell_type": "code",
   "execution_count": null,
   "id": "86aa9c8a-2f0a-4c8d-a5fd-a6692be82255",
   "metadata": {},
   "outputs": [],
   "source": []
  },
  {
   "cell_type": "code",
   "execution_count": null,
   "id": "8ccf7473-a2ab-4d52-966b-df93bb60555a",
   "metadata": {},
   "outputs": [],
   "source": []
  },
  {
   "cell_type": "markdown",
   "id": "60f2581f-94e9-4e74-b7bf-1e1baad27537",
   "metadata": {},
   "source": [
    "## Accessing Image Data (AKA, Working With Arrays)"
   ]
  },
  {
   "cell_type": "code",
   "execution_count": null,
   "id": "76f38807-f56f-423c-9e06-11953489ea43",
   "metadata": {},
   "outputs": [],
   "source": [
    "import numpy as np"
   ]
  },
  {
   "cell_type": "code",
   "execution_count": null,
   "id": "4c69af4e-abd0-4bc5-9cb3-b207609917cf",
   "metadata": {},
   "outputs": [],
   "source": []
  },
  {
   "cell_type": "code",
   "execution_count": null,
   "id": "562931c3-a7aa-4074-82a8-23038261bdb7",
   "metadata": {},
   "outputs": [],
   "source": []
  },
  {
   "cell_type": "markdown",
   "id": "0e7716e2-78c6-49a5-a241-9b7c469b90f0",
   "metadata": {},
   "source": [
    "## Quick and Dirty Visualization"
   ]
  },
  {
   "cell_type": "code",
   "execution_count": null,
   "id": "14f4691e-6332-415d-b4ea-941f6b25068a",
   "metadata": {},
   "outputs": [],
   "source": [
    "import matplotlib.pyplot as plt"
   ]
  },
  {
   "cell_type": "code",
   "execution_count": null,
   "id": "81c5b5ec-8f01-4764-a220-8ead7a7a2246",
   "metadata": {},
   "outputs": [],
   "source": [
    "%matplotlib inline"
   ]
  },
  {
   "cell_type": "code",
   "execution_count": null,
   "id": "27acfb32-5c59-44ee-87b5-12c6df29fae3",
   "metadata": {},
   "outputs": [],
   "source": []
  },
  {
   "cell_type": "code",
   "execution_count": null,
   "id": "b200e35b-2576-49a1-84df-d447313838cf",
   "metadata": {},
   "outputs": [],
   "source": []
  },
  {
   "cell_type": "code",
   "execution_count": null,
   "id": "eaa46cce-4391-49e9-9e99-d43976befa7a",
   "metadata": {},
   "outputs": [],
   "source": []
  },
  {
   "cell_type": "markdown",
   "id": "15b1a79f-b916-45e8-9296-4b3e42dcfdd6",
   "metadata": {},
   "source": [
    "## WCS Calculations"
   ]
  },
  {
   "cell_type": "code",
   "execution_count": null,
   "id": "d86fcd17-27bb-4058-8ada-58a9118b52f0",
   "metadata": {},
   "outputs": [],
   "source": [
    "from astropy.wcs import WCS"
   ]
  },
  {
   "cell_type": "code",
   "execution_count": null,
   "id": "b686ad2c-0678-4c02-bd05-725e65a4de28",
   "metadata": {},
   "outputs": [],
   "source": []
  },
  {
   "cell_type": "code",
   "execution_count": null,
   "id": "cc52804c-be00-4056-8a73-dc93275097f5",
   "metadata": {},
   "outputs": [],
   "source": []
  },
  {
   "cell_type": "markdown",
   "id": "78c7a079-736b-40ac-9540-f8c32b853e1b",
   "metadata": {},
   "source": [
    "## Working with Units\n",
    "\n",
    "No need to reinvent the wheel — here we follow [the Astropy Quantities tutorial][aq].\n",
    "\n",
    "[aq]: https://learn.astropy.org/tutorials/quantities.html"
   ]
  },
  {
   "cell_type": "code",
   "execution_count": null,
   "id": "0c9efeef-9179-4446-8e4c-7e853952f026",
   "metadata": {},
   "outputs": [],
   "source": [
    "from astropy import units as u"
   ]
  },
  {
   "cell_type": "code",
   "execution_count": null,
   "id": "5b71d99b-422c-401b-9e4b-2046ffbfbf1f",
   "metadata": {},
   "outputs": [],
   "source": []
  },
  {
   "cell_type": "code",
   "execution_count": null,
   "id": "48b80f5e-b5b7-4883-a9a7-a980e87a751a",
   "metadata": {},
   "outputs": [],
   "source": []
  },
  {
   "cell_type": "markdown",
   "id": "8c01b263-4f26-45df-93e6-3cf962f75db9",
   "metadata": {},
   "source": [
    "## FITS Data Tables"
   ]
  },
  {
   "cell_type": "code",
   "execution_count": null,
   "id": "c6286414-456f-44a3-8af3-ab6a6b4676d3",
   "metadata": {},
   "outputs": [],
   "source": [
    "filename = \"acisf18955N004_evt2.fits.gz\""
   ]
  },
  {
   "cell_type": "code",
   "execution_count": null,
   "id": "4a8f994d-9f38-485c-849f-e74b44d2564d",
   "metadata": {},
   "outputs": [],
   "source": []
  },
  {
   "cell_type": "code",
   "execution_count": null,
   "id": "ccda7b31-e20b-4edb-a1eb-fedc5771ae16",
   "metadata": {},
   "outputs": [],
   "source": []
  },
  {
   "cell_type": "markdown",
   "id": "a78dad96-660d-45cf-b70a-239c7051e5bc",
   "metadata": {},
   "source": [
    "## Next Steps\n",
    "\n",
    "This workshop was led by your CfA Innovation Scientist, Peter K. G. Williams, <pwilliams@cfa.harvard.edu>.\n",
    "\n",
    "He runs software \"office hours\" on Zoom on Mondays at 1 PM and Thursdays at 2 PM. Email him for Zoom information, or log in to the `#python` channel of the unofficial CfA Slack for reminders.\n",
    "\n",
    "More resources:\n",
    "\n",
    "- The JupyterLab \"Help\" menu has links to manuals for Python, Numpy, Matplotlib, and more\n",
    "- [Astropy learning materials](https://learn.astropy.org/)\n",
    "- [Astropy reference documentation](https://docs.astropy.org/)\n",
    "- [`astropy` on StackOverflow](https://stackoverflow.com/questions/tagged/astropy)"
   ]
  },
  {
   "cell_type": "code",
   "execution_count": null,
   "id": "a531c540-d4e5-48d5-a20e-8377104be0d4",
   "metadata": {},
   "outputs": [],
   "source": []
  }
 ],
 "metadata": {
  "kernelspec": {
   "display_name": "Python 3 (ipykernel)",
   "language": "python",
   "name": "python3"
  },
  "language_info": {
   "codemirror_mode": {
    "name": "ipython",
    "version": 3
   },
   "file_extension": ".py",
   "mimetype": "text/x-python",
   "name": "python",
   "nbconvert_exporter": "python",
   "pygments_lexer": "ipython3",
   "version": "3.9.12"
  }
 },
 "nbformat": 4,
 "nbformat_minor": 5
}
